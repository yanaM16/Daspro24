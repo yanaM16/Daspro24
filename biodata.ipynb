{
 "cells": [
  {
   "cell_type": "code",
   "execution_count": 1,
   "id": "e8d10444-7e5b-49eb-8207-bbf2bf256c92",
   "metadata": {},
   "outputs": [
    {
     "name": "stdin",
     "output_type": "stream",
     "text": [
      "Masukkan Nama Anda : Muhammad Nuriana\n",
      "Masukkan Umur Anda : 20\n",
      "Masukkan Alamat Anda KP. Kaalaparea\n"
     ]
    },
    {
     "name": "stdout",
     "output_type": "stream",
     "text": [
      "Nama: Muhammad Nuriana\n",
      "Umur: 20\n",
      "Alamat: KP. Kaalaparea\n"
     ]
    }
   ],
   "source": [
    "nama = input (\"Masukkan Nama Anda :\")\n",
    "umur = input (\"Masukkan Umur Anda :\")\n",
    "alamat = input (\"Masukkan Alamat Anda\")\n",
    "\n",
    "hasil = \"Nama: {}\\nUmur: {}\\nAlamat: {}\".format(nama,umur,alamat)\n",
    "print(hasil)"
   ]
  },
  {
   "cell_type": "code",
   "execution_count": null,
   "id": "c18499c6-8dfa-4ca7-b458-92725bcff870",
   "metadata": {},
   "outputs": [],
   "source": []
  }
 ],
 "metadata": {
  "kernelspec": {
   "display_name": "Python [conda env:base] *",
   "language": "python",
   "name": "conda-base-py"
  },
  "language_info": {
   "codemirror_mode": {
    "name": "ipython",
    "version": 3
   },
   "file_extension": ".py",
   "mimetype": "text/x-python",
   "name": "python",
   "nbconvert_exporter": "python",
   "pygments_lexer": "ipython3",
   "version": "3.12.7"
  }
 },
 "nbformat": 4,
 "nbformat_minor": 5
}
