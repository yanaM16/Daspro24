{
 "cells": [
  {
   "cell_type": "markdown",
   "id": "b71f8d9d-23f3-41ba-8be5-1b3d5d474351",
   "metadata": {},
   "source": [
    "<h1>Biodata</h1>"
   ]
  },
  {
   "cell_type": "code",
   "execution_count": 51,
   "id": "4ad77bb6-97f4-49c8-87b2-273b74eaf83e",
   "metadata": {},
   "outputs": [
    {
     "name": "stdin",
     "output_type": "stream",
     "text": [
      "Masukkan nama anda: Muhammad Nuriana\n",
      "Masukkan umur anda: 20\n",
      "Masukkan alamat anda: Kp. Kalaparea RT.02/09, Desa Kalaparea, Kec.Nagrak, Kab.Sukabumi\n"
     ]
    },
    {
     "name": "stdout",
     "output_type": "stream",
     "text": [
      "Nama: Muhammad Nuriana\n",
      "Umur: 20\n",
      "Alamat: Kp. Kalaparea RT.02/09, Desa Kalaparea, Kec.Nagrak, Kab.Sukabumi\n"
     ]
    }
   ],
   "source": [
    "nama = input(\"Masukkan nama anda:\")\n",
    "umur = input(\"Masukkan umur anda:\")\n",
    "alamat = input(\"Masukkan alamat anda:\")\n",
    "\n",
    "hasil = \"Nama: {}\\nUmur: {}\\nAlamat: {}\".format(nama,umur,alamat)\n",
    "print(hasil)"
   ]
  },
  {
   "cell_type": "markdown",
   "id": "6a5b4bd1-a5de-42ba-9964-03024d521659",
   "metadata": {},
   "source": [
    "<h1>Kalimat</h1>"
   ]
  },
  {
   "cell_type": "code",
   "execution_count": 54,
   "id": "7f14f5d5-fc87-42d4-b1a8-24b6df16dc5e",
   "metadata": {},
   "outputs": [
    {
     "name": "stdout",
     "output_type": "stream",
     "text": [
      "a. putra nusa\n",
      "b. NIVERSITAS NSA PTRA SKABMI\n",
      "c. SUKABUMI PUTRA NUSA UNIVERSITAS\n",
      "d. UNPS\n",
      "e. TAS SAPU BUMI\n"
     ]
    }
   ],
   "source": [
    "kalimat = \"UNIVERSITAS NUSA PUTRA SUKABUMI\"\n",
    "\n",
    "a = kalimat.split()\n",
    "print(f\"a. {a[2]} {a[1]}\".lower())\n",
    "\n",
    "b = kalimat.replace(\"U\",\"\")\n",
    "print(f\"b. {b}\")\n",
    "\n",
    "dibalik = a[::-1]\n",
    "c = \" \".join(dibalik)\n",
    "print(f\"c. {c}\")\n",
    "\n",
    "d = \"\"\n",
    "for kata in a:\n",
    "    d += kata[0]\n",
    "print(f\"d. {d}\")\n",
    "\n",
    "print(f\"e. {a[0][-3:]} {a[1][-2:]}{a[2][0:2]} {a[3][-4:]}\")"
   ]
  },
  {
   "cell_type": "code",
   "execution_count": null,
   "id": "3bfdef79-3bcb-4bbb-93d5-04148ac9610b",
   "metadata": {},
   "outputs": [],
   "source": []
  }
 ],
 "metadata": {
  "kernelspec": {
   "display_name": "Python [conda env:base] *",
   "language": "python",
   "name": "conda-base-py"
  },
  "language_info": {
   "codemirror_mode": {
    "name": "ipython",
    "version": 3
   },
   "file_extension": ".py",
   "mimetype": "text/x-python",
   "name": "python",
   "nbconvert_exporter": "python",
   "pygments_lexer": "ipython3",
   "version": "3.12.7"
  }
 },
 "nbformat": 4,
 "nbformat_minor": 5
}
