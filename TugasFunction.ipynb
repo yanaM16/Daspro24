{
 "cells": [
  {
   "cell_type": "code",
   "execution_count": 1,
   "id": "a87313fe-5ab4-4def-8513-b6f0116508ab",
   "metadata": {},
   "outputs": [
    {
     "name": "stdout",
     "output_type": "stream",
     "text": [
      "Hasil reverse_per_kata:\n",
      "UKA ATNIC UMAK\n",
      "\n",
      "Hasil urutkan_kalimat:\n",
      "PYTHON HARI BELAJAR SEDANG INI\n",
      "\n",
      "Hasil ganti_vokal (opsi 1):\n",
      "Ak|_| C1nt4 K4m|_|\n",
      "\n",
      "Hasil ganti_vokal (opsi 2):\n",
      "4ku Cinta Kamu\n"
     ]
    }
   ],
   "source": [
    "def reverse_per_kata(kalimat):\n",
    "    kata_list = kalimat.split()\n",
    "    hasil_balik = [kata[::-1] for kata in kata_list]\n",
    "    return ' '.join(hasil_balik)\n",
    "\n",
    "def urutkan_kalimat(kalimat, urutan):\n",
    "    kata_list = kalimat.split()\n",
    "    hasil_urut = []\n",
    "    for idx in urutan:\n",
    "        if 1 <= idx <= len(kata_list):\n",
    "            hasil_urut.append(kata_list[idx - 1])\n",
    "        else:\n",
    "            hasil_urut.append('')\n",
    "    return ' '.join(hasil_urut)\n",
    "\n",
    "def ganti_vokal(kalimat, opsi):\n",
    "    pengganti_kecil = {'a': '4', 'i': '1', 'u': '|_|', 'e': '3', 'o': '0'}\n",
    "    pengganti_besar = {'A': '4', 'I': '1', 'U': '|_|', 'E': '3', 'O': '0'}\n",
    "    hasil = ''\n",
    "    for char in kalimat:\n",
    "        if opsi == 1 and char in pengganti_kecil:\n",
    "            hasil += pengganti_kecil[char]\n",
    "        elif opsi == 2 and char in pengganti_besar:\n",
    "            hasil += pengganti_besar[char]\n",
    "        else:\n",
    "            hasil += char\n",
    "    return hasil\n",
    "\n",
    "print(\"Hasil reverse_per_kata:\")\n",
    "print(reverse_per_kata(\"AKU CINTA KAMU\"))\n",
    "\n",
    "print(\"\\nHasil urutkan_kalimat:\")\n",
    "print(urutkan_kalimat(\"HARI INI SEDANG BELAJAR PYTHON\", [5, 1, 4, 3, 2]))\n",
    "\n",
    "print(\"\\nHasil ganti_vokal (opsi 1):\")\n",
    "print(ganti_vokal(\"Aku Cinta Kamu\", 1))\n",
    "\n",
    "print(\"\\nHasil ganti_vokal (opsi 2):\")\n",
    "print(ganti_vokal(\"Aku Cinta Kamu\", 2))"
   ]
  },
  {
   "cell_type": "code",
   "execution_count": null,
   "id": "2b104829-372a-46cc-9f91-baca29ec8f7f",
   "metadata": {},
   "outputs": [],
   "source": []
  }
 ],
 "metadata": {
  "kernelspec": {
   "display_name": "Python [conda env:base] *",
   "language": "python",
   "name": "conda-base-py"
  },
  "language_info": {
   "codemirror_mode": {
    "name": "ipython",
    "version": 3
   },
   "file_extension": ".py",
   "mimetype": "text/x-python",
   "name": "python",
   "nbconvert_exporter": "python",
   "pygments_lexer": "ipython3",
   "version": "3.12.7"
  }
 },
 "nbformat": 4,
 "nbformat_minor": 5
}
