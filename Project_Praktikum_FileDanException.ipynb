{
 "cells": [
  {
   "cell_type": "code",
   "execution_count": null,
   "id": "91a9807c-8aa8-46b8-af7d-30ddd396750a",
   "metadata": {},
   "outputs": [
    {
     "name": "stdout",
     "output_type": "stream",
     "text": [
      "\n",
      "Menu:\n",
      "1. Tambah Mahasiswa\n",
      "2. Tampilkan Mahasiswa\n",
      "3. Keluar\n"
     ]
    },
    {
     "name": "stdin",
     "output_type": "stream",
     "text": [
      "Pilih menu (1/2/3):  2\n"
     ]
    },
    {
     "name": "stdout",
     "output_type": "stream",
     "text": [
      "Tidak ada data mahasiswa.\n",
      "\n",
      "Menu:\n",
      "1. Tambah Mahasiswa\n",
      "2. Tampilkan Mahasiswa\n",
      "3. Keluar\n"
     ]
    },
    {
     "name": "stdin",
     "output_type": "stream",
     "text": [
      "Pilih menu (1/2/3):  1\n",
      "Masukkan NIM (11 digit):  12345678998\n",
      "Masukkan NAMA (minimal 6 karakter):  Ronaldo\n",
      "Masukkan ALAMAT (minimal 10 karakter):  Bandung be long to us\n",
      "Masukkan KELAS (TI23/TI24):  TI24\n"
     ]
    },
    {
     "name": "stdout",
     "output_type": "stream",
     "text": [
      "Data Mahasiswa berhasil ditambahkan.\n",
      "\n",
      "Menu:\n",
      "1. Tambah Mahasiswa\n",
      "2. Tampilkan Mahasiswa\n",
      "3. Keluar\n"
     ]
    },
    {
     "name": "stdin",
     "output_type": "stream",
     "text": [
      "Pilih menu (1/2/3):  1\n",
      "Masukkan NIM (11 digit):  98765432112\n",
      "Masukkan NAMA (minimal 6 karakter):  Cristiano\n",
      "Masukkan ALAMAT (minimal 10 karakter):  Bogor kota hujan\n",
      "Masukkan KELAS (TI23/TI24):  TI23\n"
     ]
    },
    {
     "name": "stdout",
     "output_type": "stream",
     "text": [
      "Data Mahasiswa berhasil ditambahkan.\n",
      "\n",
      "Menu:\n",
      "1. Tambah Mahasiswa\n",
      "2. Tampilkan Mahasiswa\n",
      "3. Keluar\n"
     ]
    },
    {
     "name": "stdin",
     "output_type": "stream",
     "text": [
      "Pilih menu (1/2/3):  2\n"
     ]
    },
    {
     "name": "stdout",
     "output_type": "stream",
     "text": [
      "\n",
      "Data Mahasiswa:\n",
      "NIM: 12345678998, NAMA: Ronaldo, ALAMAT: Bandung be long to us, KELAS: TI24\n",
      "NIM: 98765432112, NAMA: Cristiano, ALAMAT: Bogor kota hujan, KELAS: TI23\n",
      "\n",
      "Menu:\n",
      "1. Tambah Mahasiswa\n",
      "2. Tampilkan Mahasiswa\n",
      "3. Keluar\n"
     ]
    }
   ],
   "source": [
    "def valid_nim(nim):\n",
    "    return len(nim) == 11 and nim.isdigit()\n",
    "\n",
    "def valid_nama(nama):\n",
    "    return len(nama) >= 6\n",
    "\n",
    "def valid_alamat(alamat):\n",
    "    return len(alamat) >= 10\n",
    "\n",
    "def valid_kelas(kelas):\n",
    "    return kelas in [\"TI23\", \"TI24\"]\n",
    "\n",
    "def main():\n",
    "    mahasiswa_list = []\n",
    "    \n",
    "    while True:\n",
    "        print(\"\\nMenu:\")\n",
    "        print(\"1. Tambah Mahasiswa\")\n",
    "        print(\"2. Tampilkan Mahasiswa\")\n",
    "        print(\"3. Keluar\")\n",
    "        \n",
    "        pilihan = input(\"Pilih menu (1/2/3): \")\n",
    "        \n",
    "        if pilihan == '1':\n",
    "            nim = input(\"Masukkan NIM (11 digit): \")\n",
    "            if not valid_nim(nim):\n",
    "                print(\"NIM tidak valid. Harus 11 digit.\")\n",
    "                continue\n",
    "            \n",
    "            nama = input(\"Masukkan NAMA (minimal 6 karakter): \")\n",
    "            if not valid_nama(nama):\n",
    "                print(\"NAMA tidak valid. Minimal 6 karakter.\")\n",
    "                continue\n",
    "            \n",
    "            alamat = input(\"Masukkan ALAMAT (minimal 10 karakter): \")\n",
    "            if not valid_alamat(alamat):\n",
    "                print(\"ALAMAT tidak valid. Minimal 10 karakter.\")\n",
    "                continue\n",
    "            \n",
    "            kelas = input(\"Masukkan KELAS (TI23/TI24): \")\n",
    "            if not valid_kelas(kelas):\n",
    "                print(\"KELAS tidak valid. Hanya boleh TI23 atau TI24.\")\n",
    "                continue\n",
    "            \n",
    "            mahasiswa_list.append({\n",
    "                'NIM': nim,\n",
    "                'NAMA': nama,\n",
    "                'ALAMAT': alamat,\n",
    "                'KELAS': kelas\n",
    "            })\n",
    "            print(\"Data Mahasiswa berhasil ditambahkan.\")\n",
    "        \n",
    "        elif pilihan == '2':\n",
    "            if not mahasiswa_list:\n",
    "                print(\"Tidak ada data mahasiswa.\")\n",
    "            else:\n",
    "                print(\"\\nData Mahasiswa:\")\n",
    "                for mhs in mahasiswa_list:\n",
    "                    print(f\"NIM: {mhs['NIM']}, NAMA: {mhs['NAMA']}, ALAMAT: {mhs['ALAMAT']}, KELAS: {mhs['KELAS']}\")\n",
    "        \n",
    "        elif pilihan == '3':\n",
    "            print(\"Keluar dari program.\")\n",
    "            break\n",
    "        \n",
    "        else:\n",
    "            print(\"Pilihan tidak valid. Silakan pilih menu yang benar.\")\n",
    "\n",
    "if __name__ == \"__main__\":\n",
    "    main()\n"
   ]
  },
  {
   "cell_type": "code",
   "execution_count": null,
   "id": "e55541c2-e2e4-461d-89e7-ebcd692a253d",
   "metadata": {},
   "outputs": [],
   "source": []
  }
 ],
 "metadata": {
  "kernelspec": {
   "display_name": "Python [conda env:base] *",
   "language": "python",
   "name": "conda-base-py"
  },
  "language_info": {
   "codemirror_mode": {
    "name": "ipython",
    "version": 3
   },
   "file_extension": ".py",
   "mimetype": "text/x-python",
   "name": "python",
   "nbconvert_exporter": "python",
   "pygments_lexer": "ipython3",
   "version": "3.12.7"
  }
 },
 "nbformat": 4,
 "nbformat_minor": 5
}
