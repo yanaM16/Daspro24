{
 "cells": [
  {
   "cell_type": "markdown",
   "id": "5854a90d-e435-44ae-9e31-3bc520e011b1",
   "metadata": {
    "id": "5854a90d-e435-44ae-9e31-3bc520e011b1"
   },
   "source": [
    "Buatlah program yang meminta pengguna memasukkan usia seseorang, lalu tentukan apakah dia <br>\n",
    "anak-anak (0-12 tahun), remaja (13-17 tahun), dewasa (18-59 tahun), atau lansia (60 tahun ke atas)."
   ]
  },
  {
   "cell_type": "code",
   "execution_count": 3,
   "id": "75a2fdcd-1ef1-45e4-9d79-c6a7cb708a18",
   "metadata": {
    "id": "75a2fdcd-1ef1-45e4-9d79-c6a7cb708a18"
   },
   "outputs": [
    {
     "name": "stdin",
     "output_type": "stream",
     "text": [
      "Isikan umur anda : 21\n"
     ]
    },
    {
     "name": "stdout",
     "output_type": "stream",
     "text": [
      "Dewasa\n"
     ]
    }
   ],
   "source": [
    "# add code here ...\n",
    "umur = int(input(\"Isikan umur anda :\"))\n",
    "if umur >= 0 and umur <= 12 :\n",
    "    if umur >= 0 and umur <=12:\n",
    "      print(\"Anak-Anak\")\n",
    "elif umur >= 13  and umur <= 17:\n",
    "    print(\"Remaja\")\n",
    "elif umur >= 18 and umur <= 59:\n",
    "    print(\"Dewasa\")\n",
    "elif umur >= 60 :\n",
    "    print(\"Lansia\")\n",
    "else:\n",
    "    print(\"Masukkan usia anda dengan benar\")"
   ]
  },
  {
   "cell_type": "markdown",
   "id": "68c95835-e4ad-4bd0-89ca-168200893cf7",
   "metadata": {
    "id": "68c95835-e4ad-4bd0-89ca-168200893cf7"
   },
   "source": [
    "Sebuah taman hiburan memiliki aturan harga tiket berdasarkan usia:\n",
    "<ol>\n",
    "<li>Anak-anak (0-12 tahun): Rp 10.000</li>\n",
    "<li>Remaja (13-17 tahun): Rp 15.000</li>\n",
    "<li>Dewasa (18-59 tahun): Rp 25.000</li>\n",
    "<li>Lansia (60 tahun ke atas): Gratis</li>\n",
    "</ol>\n",
    "Buat program untuk menentukan harga tiket berdasarkan usia yang dimasukkan pengguna dan total harga yang harus dibayar, jika terdapat 3 input seperti berikut ini"
   ]
  },
  {
   "cell_type": "code",
   "execution_count": 35,
   "id": "66ee699f-8355-48e0-939a-dcc73ba4425b",
   "metadata": {
    "id": "66ee699f-8355-48e0-939a-dcc73ba4425b"
   },
   "outputs": [
    {
     "name": "stdin",
     "output_type": "stream",
     "text": [
      "Isikan Umur Tiket 1:  8\n",
      "Isikan Umur Tiket 2:  15\n",
      "Isikan Umur Tiket 3:  21\n",
      "Isikan Umur Tiket 4:  77\n"
     ]
    },
    {
     "name": "stdout",
     "output_type": "stream",
     "text": [
      "===============\n",
      "Harga tiket untuk Anak-anak: 10000\n",
      "Harga tiket untuk Remaja: 15000\n",
      "Harga tiket untuk Dewasa: 25000\n",
      "Untuk lansia 0 atau GRATIS\n",
      "===============\n",
      "Total harga tiketnya adalah: 50000\n"
     ]
    }
   ],
   "source": [
    "tiket1 = int(input(\"Isikan Umur Tiket 1: \"))\n",
    "tiket2 = int(input(\"Isikan Umur Tiket 2: \"))\n",
    "tiket3 = int(input(\"Isikan Umur Tiket 3: \"))\n",
    "tiket4 = int(input(\"Isikan Umur Tiket 4: \"))\n",
    "\n",
    "#add code here\n",
    "#anak anak\n",
    "print(\"===============\")\n",
    "if tiket1 >= 0 and tiket1 <= 12:\n",
    "    harga1 = 10000\n",
    "else:\n",
    "    print(\"Masukkan umur anda dengan benar!!\")\n",
    "print(f\"Harga tiket untuk Anak-anak: {harga1}\")\n",
    "#remaja\n",
    "if tiket2 >= 13 and tiket2 <= 17:\n",
    "    harga2 = 15000\n",
    "else:\n",
    "    print(\"Masukkan umur anda dengan benar!!\")\n",
    "print(f\"Harga tiket untuk Remaja: {harga2}\")\n",
    "#dewasa\n",
    "if tiket3 >= 18 and tiket3 <= 59:\n",
    "    harga3 = 25000\n",
    "else:\n",
    "    print(\"Masukkan umur anda dengan benar!!\")\n",
    "print(f\"Harga tiket untuk Dewasa: {harga3}\")\n",
    "#lansia\n",
    "if tiket4 >= 60:\n",
    "    harga4 = 0\n",
    "else:\n",
    "    print(\"Masukkan umur anda dengan benar!!\")\n",
    "print(f\"Untuk lansia {harga4} atau GRATIS\")\n",
    "#total\n",
    "print(\"===============\")\n",
    "total = harga1 + harga2 + harga3 + harga4\n",
    "print(f\"Total harga tiketnya adalah: {total}\")"
   ]
  },
  {
   "cell_type": "markdown",
   "id": "82eac646-d930-42f5-a253-03f84c32f943",
   "metadata": {
    "id": "82eac646-d930-42f5-a253-03f84c32f943"
   },
   "source": [
    "Sebuah restoran memiliki diskon khusus:\n",
    "Anak-anak (0-12 tahun) diskon 50%\n",
    "Lansia (60 tahun ke atas) diskon 30%\n",
    "Selain itu, tidak ada diskon\n",
    "Buat program untuk menghitung harga yang harus dibayar setelah diskon diberikan."
   ]
  },
  {
   "cell_type": "code",
   "execution_count": 41,
   "id": "feb31fca-fce6-4e5f-a25f-8752e7a0033b",
   "metadata": {
    "id": "feb31fca-fce6-4e5f-a25f-8752e7a0033b"
   },
   "outputs": [
    {
     "name": "stdin",
     "output_type": "stream",
     "text": [
      "masukkan usia anda : 8\n",
      "masukkan total belanjaan anda : 40000\n"
     ]
    },
    {
     "name": "stdout",
     "output_type": "stream",
     "text": [
      "Selamat anda dapat diskon sebesar 50%\n",
      "total harga yang yang harus anda bayar adalah : Rp 20000.0\n"
     ]
    }
   ],
   "source": [
    "# add code here ...\n",
    "anak = 0.5\n",
    "lansia = 0.3\n",
    "usia = int(input(\"masukkan usia anda :\"))\n",
    "belanja = int(input(\"masukkan total belanjaan anda :\"))\n",
    "\n",
    "if usia >= 0 and usia <= 12 :\n",
    "    diskon = belanja * anak\n",
    "    totalBelanja = belanja - diskon\n",
    "    print(\"Selamat anda dapat diskon sebesar 50%\")\n",
    "    print(\"total harga yang yang harus anda bayar adalah : Rp\", totalBelanja)\n",
    "elif usia >= 60 :\n",
    "    diskon = belanja * lansia\n",
    "    totalBelanja = belanja - diskon\n",
    "    print(\"Selamat anda dapat diskon sebesar 30%\")\n",
    "    print(\"total harga yang yang harus anda bayar adalah : Rp\", totalBelanja)\n",
    "elif usia <=0 :\n",
    "    print(\"masukkan umur anda dengan benar\")\n",
    "else :\n",
    "    print(\"anda tidak mendapatkan diskon\")\n",
    "    print(\"total belanjaan yang harus anda bayar adalah : Rp\", belanja)"
   ]
  },
  {
   "cell_type": "markdown",
   "id": "aee8bab3-9bf1-4732-97e1-7abb32ce7184",
   "metadata": {
    "id": "aee8bab3-9bf1-4732-97e1-7abb32ce7184"
   },
   "source": [
    "Program beasiswa:\n",
    "<ol>\n",
    "<li>Jika nilai rapor ≥ 90 dan penghasilan orang tua < Rp 5.000.000 → Beasiswa Penuh</li>\n",
    "<li>Jika nilai rapor ≥ 85 dan penghasilan orang tua < Rp 8.000.000 → Beasiswa 50%</li>\n",
    "<li>Jika tidak memenuhi syarat di atas → Tidak mendapatkan beasiswa</li>\n",
    "</ol>"
   ]
  },
  {
   "cell_type": "code",
   "execution_count": 43,
   "id": "55a9ec4f-531b-4326-bca3-e0d19b4be47d",
   "metadata": {
    "id": "55a9ec4f-531b-4326-bca3-e0d19b4be47d"
   },
   "outputs": [
    {
     "name": "stdin",
     "output_type": "stream",
     "text": [
      "Masukkan nilai anda:  95\n",
      "Masukkan gaji orang tua anda:  3500000\n"
     ]
    },
    {
     "name": "stdout",
     "output_type": "stream",
     "text": [
      "Selamat anda mendapatkan Beasiswa Penuh\n"
     ]
    }
   ],
   "source": [
    "# add code here ...\n",
    "nilai = int(input(\"Masukkan nilai anda: \"))\n",
    "gaji = int(input(\"Masukkan gaji orang tua anda: \"))\n",
    "\n",
    "if nilai >= 90 and nilai <= 100 and gaji <= 5000000:\n",
    "    print(\"Selamat anda mendapatkan Beasiswa Penuh\")\n",
    "elif nilai >= 85 and nilai <= 89 and gaji <= 8000000:\n",
    "    print(\"Selamat anda mendapatkan Beasiswa 50%\")\n",
    "elif nilai >= 70 and nilai <= 84:\n",
    "    print(\"Maaf anda tidak mendapatkan Beasiswa\")\n",
    "else:\n",
    "    print(\"Maaf anda tidak bisa bergabung dalam program ini! Karna tidak memenuhi syarat\")"
   ]
  },
  {
   "cell_type": "markdown",
   "id": "57ea9062-e1af-4650-8eab-a47a01a9d04f",
   "metadata": {
    "id": "57ea9062-e1af-4650-8eab-a47a01a9d04f"
   },
   "source": [
    "Suatu aplikasi streaming memiliki batasan usia:\n",
    "<ol>\n",
    "<li>Film Semua Umur: Bisa ditonton oleh siapa saja</li>\n",
    "<li>Film Remaja: Hanya untuk usia ≥ 13 tahun</li>\n",
    "<li>Film Dewasa: Hanya untuk usia ≥ 18 tahun</li>\n",
    "</ol>\n",
    "Buat program yang meminta input usia dan kategori film, lalu tentukan apakah seseorang boleh menonton film tersebut atau tidak."
   ]
  },
  {
   "cell_type": "code",
   "execution_count": 45,
   "id": "2c00f464-3390-4c94-9ec2-4b63c55b871b",
   "metadata": {
    "id": "2c00f464-3390-4c94-9ec2-4b63c55b871b"
   },
   "outputs": [
    {
     "name": "stdin",
     "output_type": "stream",
     "text": [
      "masukkan usia anda : 21\n"
     ]
    },
    {
     "name": "stdout",
     "output_type": "stream",
     "text": [
      "kategori film\n",
      "1. semua umur\n",
      "2. remaja\n",
      "3. dewasa\n"
     ]
    },
    {
     "name": "stdin",
     "output_type": "stream",
     "text": [
      "isikan kategori film yang ingin anda tonton  : 2\n"
     ]
    },
    {
     "name": "stdout",
     "output_type": "stream",
     "text": [
      "Tidak boleh menonton film\n"
     ]
    }
   ],
   "source": [
    "# add code here ...\n",
    "usia = int(input(\"masukkan usia anda :\"))\n",
    "print(\"\"\"kategori film\n",
    "1. semua umur\n",
    "2. remaja\n",
    "3. dewasa\"\"\")\n",
    "kategori = input(\"isikan kategori film yang ingin anda tonton  :\")\n",
    "\n",
    "if usia >= 13 and kategori == \"remaja\":\n",
    "    print(\"Boleh menonton film\")\n",
    "elif usia >= 18 and kategori == \"dewasa\":\n",
    "    print(\"Boleh menonton film\")\n",
    "elif usia >= 0 and kategori == \"semua umur\":\n",
    "    print(\"Boleh menonton film\")\n",
    "else:\n",
    "    print(\"Tidak boleh menonton film\")"
   ]
  },
  {
   "cell_type": "markdown",
   "id": "7b87c04c-85f0-4dc1-a14a-f67d8b2c4e6a",
   "metadata": {
    "id": "7b87c04c-85f0-4dc1-a14a-f67d8b2c4e6a"
   },
   "source": [
    "Sebuah toko memberikan diskon berdasarkan jumlah pembelian:\n",
    "<ol>\n",
    "<li>Jika total belanja ≥ Rp 500.000 → Diskon 20%</li>\n",
    "<li>Jika total belanja ≥ Rp 250.000 → Diskon 10%</li>\n",
    "<li>Jika total belanja < Rp 250.000 → Tidak ada diskon</li>\n",
    "</ol>\n",
    "Hitung harga akhir setelah diskon."
   ]
  },
  {
   "cell_type": "code",
   "execution_count": 51,
   "id": "966923a0-c87b-4559-8fc1-3090d448ad4a",
   "metadata": {
    "id": "966923a0-c87b-4559-8fc1-3090d448ad4a"
   },
   "outputs": [
    {
     "name": "stdin",
     "output_type": "stream",
     "text": [
      "masukkan total belanjaan anda : 275000\n"
     ]
    },
    {
     "name": "stdout",
     "output_type": "stream",
     "text": [
      "selamat anda mendapatkan diskon sebesar 10%\n",
      "total belanjaan anda adalah : Rp 247500.0\n"
     ]
    }
   ],
   "source": [
    "# add code here\n",
    "tBelanja = int(input(\"masukkan total belanjaan anda :\"))\n",
    "\n",
    "if tBelanja >= 500000 :\n",
    "    diskon = tBelanja * 0.2\n",
    "    total = tBelanja - diskon\n",
    "    print(\"selamat anda mendapatkan diskon sebesar 20%\")\n",
    "    print(\"total belanjaan anda adalah : Rp\", total)\n",
    "elif tBelanja >= 250000 :\n",
    "    diskon = tBelanja * 0.1\n",
    "    total = tBelanja - diskon\n",
    "    print(\"selamat anda mendapatkan diskon sebesar 10%\")\n",
    "    print(\"total belanjaan anda adalah : Rp\", total)\n",
    "elif tBelanja >= 0 :\n",
    "    print(\"maaf anda tidak mendapatkan diskon\")\n",
    "    print(\"total belanjaan anda adalah : Rp\", tBelanja)\n",
    "else :\n",
    "    print(\"anda kasbon?\")"
   ]
  },
  {
   "cell_type": "markdown",
   "id": "88e22629-48cc-4917-86e7-2bf4df863182",
   "metadata": {
    "id": "88e22629-48cc-4917-86e7-2bf4df863182"
   },
   "source": [
    "Program parkir:\n",
    "<ol>\n",
    "<li>Mobil: Rp 5.000 per jam</li>\n",
    "<li>Motor: Rp 2.000 per jam</li>\n",
    "<li>Jika parkir lebih dari 5 jam, ada biaya tambahan Rp 10.000</li>\n",
    "</ol>\n",
    "Hitung total biaya parkir berdasarkan jenis kendaraan dan durasi parkir."
   ]
  },
  {
   "cell_type": "code",
   "execution_count": 53,
   "id": "b8f7b918-70a1-4a88-945f-406c4aafbec7",
   "metadata": {
    "id": "b8f7b918-70a1-4a88-945f-406c4aafbec7"
   },
   "outputs": [
    {
     "name": "stdout",
     "output_type": "stream",
     "text": [
      "Program parkir: \n",
      "- Mobil \n",
      "- Motor\n",
      "\n"
     ]
    },
    {
     "name": "stdin",
     "output_type": "stream",
     "text": [
      "Masukan kategori kendaraan: motor\n"
     ]
    },
    {
     "name": "stdout",
     "output_type": "stream",
     "text": [
      "\n",
      "Program parkir: \n",
      "Mobil: Rp 5.000 per jam \n",
      "Motor: Rp 2.000 per jam \n",
      "Jika parkir lebih dari 5 jam, ada biaya tambahan Rp 10.000 \n",
      "\n"
     ]
    },
    {
     "name": "stdin",
     "output_type": "stream",
     "text": [
      "Masukan berapa jam anda parkir: 8\n"
     ]
    },
    {
     "name": "stdout",
     "output_type": "stream",
     "text": [
      "\n",
      "Karena parkir lebih dari 5 jam, ada biaya tambahan Rp 10.000\n",
      "\n",
      "Total biaya parkir adalah Rp 26000\n"
     ]
    }
   ],
   "source": [
    "# add code here\n",
    "print(f\"Program parkir: \\n- Mobil \\n- Motor\\n\")\n",
    "kendaraan = input(\"Masukan kategori kendaraan:\")\n",
    "\n",
    "print(f\"\\nProgram parkir: \\nMobil: Rp 5.000 per jam \\nMotor: Rp 2.000 per jam \\nJika parkir lebih dari 5 jam, ada biaya tambahan Rp 10.000 \\n\")\n",
    "jParkir = int(input(\"Masukan berapa jam anda parkir:\"))\n",
    "\n",
    "if kendaraan == \"mobil\":\n",
    "    BPJ = 5000\n",
    "elif kendaraan == \"motor\":\n",
    "    BPJ = 2000\n",
    "\n",
    "biaya = BPJ * jParkir\n",
    "if jParkir > 5:\n",
    "    biaya += 10000\n",
    "    print(f\"\\nKarena parkir lebih dari 5 jam, ada biaya tambahan Rp 10.000\")\n",
    "\n",
    "print(f\"\\nTotal biaya parkir adalah Rp {biaya}\")"
   ]
  },
  {
   "cell_type": "markdown",
   "id": "2db1d34c-3f80-4f8c-aaf2-910c38c05414",
   "metadata": {
    "id": "2db1d34c-3f80-4f8c-aaf2-910c38c05414"
   },
   "source": [
    "Aplikasi transportasi online memiliki tarif sebagai berikut:\n",
    "<ol>\n",
    "<li>Jika jarak ≤ 5 km → Rp 5.000/km</li>\n",
    "<li>Jika jarak 6-10 km → Rp 4.000/km</li>\n",
    "<li>Jika jarak > 10 km → Rp 3.000/km</li>\n",
    "</ol>\n",
    "Hitung tarif perjalanan berdasarkan jarak yang dimasukkan pengguna.\n"
   ]
  },
  {
   "cell_type": "code",
   "execution_count": 57,
   "id": "5a5b719e-76f6-4f45-a8e4-07853113ce9e",
   "metadata": {
    "id": "5a5b719e-76f6-4f45-a8e4-07853113ce9e"
   },
   "outputs": [
    {
     "name": "stdin",
     "output_type": "stream",
     "text": [
      "Masukkan jarak perjalanan:  15\n"
     ]
    },
    {
     "name": "stdout",
     "output_type": "stream",
     "text": [
      "Tarif perjalanan untuk 15 km adalah: Rp 45000\n"
     ]
    }
   ],
   "source": [
    "# add code here\n",
    "jarak = int(input(\"Masukkan jarak perjalanan: \"))\n",
    "\n",
    "if jarak <= 5 and jarak >= 0:\n",
    "    perKM = 5000\n",
    "elif jarak >= 6 and jarak <= 10:\n",
    "    perKM = 4000\n",
    "elif jarak >= 10:\n",
    "    perKM = 3000\n",
    "else:\n",
    "    perKM = 0\n",
    "\n",
    "totalTarif = perKM * jarak\n",
    "\n",
    "print(f\"Tarif perjalanan untuk {jarak} km adalah: Rp {totalTarif}\")"
   ]
  },
  {
   "cell_type": "markdown",
   "id": "d1cf7b61-e309-40ec-b1fd-4bc56550a10d",
   "metadata": {
    "id": "d1cf7b61-e309-40ec-b1fd-4bc56550a10d"
   },
   "source": [
    "Buatlah sebuah sistem penerimaan calon programmer yang akan menerima dua nilai ( nilai coding dan nilai interview). Untuk penilaian test coding skala penilaian yang diberikan dimulai dari 0 hingga 100 dengan sistem penilaian:\n",
    "<ol>\n",
    "<li>ketika seseorang mendapatkan nilai lebih dari 80 maka peserta tersebut akan mendapatkan hasil tes LOLOS</li>\n",
    "<li>ketika sesorang mendapatkan nilai diantara 60 hingga 80 maka peserta tersebut mendapatkan hasil tes DIPERTIMBANGKAN</li>\n",
    "<li>ketika seseorang mendapatkan nilai dibawah 60 maka peserta tersebut mendapatkan hasil tes GAGAL.</li>\n",
    "</ol>\n",
    "\n",
    "Sedangkan untuk penilaian interview adalah\n",
    "<ol>\n",
    "<li>ketika nilai yang diberikan kepada seseorang tersebut adalah \"A\" atau \"B\" maka peserta tersebut dianggap LOLOS interview</li>\n",
    "\n",
    "<li>selain kedua nilai tersebut maka peserta dianggap GAGAL tes interview.</li>\n",
    "</ol>\n",
    "\n",
    "Ketika calon programmer mendapatkan nilai coding LOLOS atau DIPERTIMBANGKAN dan juga LOLOS test interview maka tampilkanlah pesan \"Selamat Kamu Berhasil Menjadi Calon Programmer\". Jika tidak maka tampilkanlah pesan \"Maaf Kamu Belum Berhasil Menjadi Calon Programmer\""
   ]
  },
  {
   "cell_type": "code",
   "execution_count": 59,
   "id": "7aeb0f89-e957-4c0d-a29c-139fc269e1c0",
   "metadata": {
    "id": "7aeb0f89-e957-4c0d-a29c-139fc269e1c0"
   },
   "outputs": [
    {
     "name": "stdin",
     "output_type": "stream",
     "text": [
      "Masukkan nilai coding (0-100):  85\n",
      "Masukkan nilai interview (A/B/C/D/E):  A\n"
     ]
    },
    {
     "name": "stdout",
     "output_type": "stream",
     "text": [
      "Selamat Kamu Berhasil Menjadi Calon Programmer\n"
     ]
    }
   ],
   "source": [
    "# add code here\n",
    "nilaiCoding = int(input(\"Masukkan nilai coding (0-100): \"))\n",
    "\n",
    "nilaiInterview = input(\"Masukkan nilai interview (A/B/C/D/E): \")\n",
    "\n",
    "# Penilaian nilai coding\n",
    "if nilaiCoding > 80:\n",
    "    hasilCoding = \"LOLOS\"\n",
    "elif nilaiCoding >= 60:\n",
    "    hasilCoding = \"DIPERTIMBANGKAN\"\n",
    "else:\n",
    "    hasilCoding = \"GAGAL\"\n",
    "\n",
    "# Penilaian nilai interview\n",
    "if nilaiInterview == \"A\" or nilaiInterview == \"B\":\n",
    "    hasilInterview = \"LOLOS\"\n",
    "else:\n",
    "    hasilInterview = \"GAGAL\"\n",
    "\n",
    "# Menentukan kelulusan calon programmer\n",
    "if (hasilCoding == \"LOLOS\" or hasilCoding == \"DIPERTIMBANGKAN\") and hasilInterview == \"LOLOS\":\n",
    "    print(\"Selamat Kamu Berhasil Menjadi Calon Programmer\")\n",
    "else:\n",
    "    print(\"Maaf Kamu Belum Berhasil Menjadi Calon Programmer\")"
   ]
  },
  {
   "cell_type": "markdown",
   "id": "364647af-075b-4bc0-8c83-4c816415ff74",
   "metadata": {
    "id": "364647af-075b-4bc0-8c83-4c816415ff74"
   },
   "source": [
    "Sebuah klub sepak bola “PERSEGI FC” mempunyai aturan dalam memberikan nomor punggung bagi para pemainnya. Para pemain diperbolehkan mempunyai posisi lebih dari 1. Berikut adalah beberapa\n",
    "aturannya:\n",
    "<ol>\n",
    "<li>Untuk nomor punggung genap, digunakan untuk posisi “target attacker”</li>\n",
    "<li>Untuk nomor punggung genap antara 50 – 100, digunakan untuk pemain yang “berhak dipilih menjadi capten team”</li>\n",
    "<li>Untuk nomor punggung ganjil, digunakan untuk posisi “defender”</li>\n",
    "<li>Untuk nomor punggung ganjil lebih dari 90, digunakan untuk posisi “Playmaker”</li>\n",
    "<li>Untuk nomor punggung ganjil kelipatan dari 3 dan 5, digunakan untuk posisi “keeper”</li>\n",
    "</ol>\n",
    "Buatlah program untuk melakukan pengecekan sebuah nomor punggung dapat berfungsi sebagai posisi apa saja."
   ]
  },
  {
   "cell_type": "code",
   "execution_count": 61,
   "id": "2d1d5589-126b-44e3-9d9e-1bed865ff65c",
   "metadata": {
    "id": "2d1d5589-126b-44e3-9d9e-1bed865ff65c"
   },
   "outputs": [
    {
     "name": "stdin",
     "output_type": "stream",
     "text": [
      "Masukkan nomor punggung:  26\n"
     ]
    },
    {
     "name": "stdout",
     "output_type": "stream",
     "text": [
      "Target Attacker\n"
     ]
    }
   ],
   "source": [
    "# add code here\n",
    "nPunggung = int(input(\"Masukkan nomor punggung: \"))\n",
    "\n",
    "if nPunggung % 2 == 0:\n",
    "    posisi = \"Target Attacker\"\n",
    "    if nPunggung >= 50 and nPunggung <= 100:\n",
    "        posisi = \"Pemain ini berhak dipilih menjadi captain team\"\n",
    "else:\n",
    "    posisi = \"Defender\"\n",
    "    if nPunggung > 90:\n",
    "        posisi = \"Playmaker\"\n",
    "    if nPunggung % 3 == 0 and nPunggung % 5 == 0:\n",
    "        posisi = \"Keeper\"\n",
    "\n",
    "print(posisi)"
   ]
  },
  {
   "cell_type": "code",
   "execution_count": null,
   "id": "b24ebfc9-5934-4d5b-8022-b37d02a1e7b2",
   "metadata": {},
   "outputs": [],
   "source": []
  }
 ],
 "metadata": {
  "colab": {
   "provenance": []
  },
  "kernelspec": {
   "display_name": "Python [conda env:base] *",
   "language": "python",
   "name": "conda-base-py"
  },
  "language_info": {
   "codemirror_mode": {
    "name": "ipython",
    "version": 3
   },
   "file_extension": ".py",
   "mimetype": "text/x-python",
   "name": "python",
   "nbconvert_exporter": "python",
   "pygments_lexer": "ipython3",
   "version": "3.12.7"
  }
 },
 "nbformat": 4,
 "nbformat_minor": 5
}
