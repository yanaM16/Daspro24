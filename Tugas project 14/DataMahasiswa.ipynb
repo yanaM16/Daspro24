{
 "cells": [
  {
   "cell_type": "code",
   "execution_count": 3,
   "id": "865e32f4-bf39-4491-8a0e-b45d41e7ca24",
   "metadata": {},
   "outputs": [
    {
     "name": "stdout",
     "output_type": "stream",
     "text": [
      "===== OPSI =====\n",
      "1. Tambahkan Data\n",
      "2. Tampilkan Data\n",
      "3. Exit\n"
     ]
    },
    {
     "name": "stdin",
     "output_type": "stream",
     "text": [
      "Pilih menu (1-3):  1\n",
      "Masukkan NIM:  20240040039\n",
      "Masukkan Nama:  Muhammad Nuriana\n",
      "Masukkan Alamat:  Kalaparea\n",
      "Masukkan Kelas:  Ti24A\n"
     ]
    },
    {
     "name": "stdout",
     "output_type": "stream",
     "text": [
      "Alamat minimal 10 huruf\n",
      "===== OPSI =====\n",
      "1. Tambahkan Data\n",
      "2. Tampilkan Data\n",
      "3. Exit\n"
     ]
    },
    {
     "name": "stdin",
     "output_type": "stream",
     "text": [
      "Pilih menu (1-3):  1\n",
      "Masukkan NIM:  234049483\n",
      "Masukkan Nama:  UdinMhhh\n",
      "Masukkan Alamat:  Sukabumi\n",
      "Masukkan Kelas:  Ti23\n"
     ]
    },
    {
     "name": "stdout",
     "output_type": "stream",
     "text": [
      "Alamat minimal 10 huruf\n",
      "===== OPSI =====\n",
      "1. Tambahkan Data\n",
      "2. Tampilkan Data\n",
      "3. Exit\n"
     ]
    },
    {
     "name": "stdin",
     "output_type": "stream",
     "text": [
      "Pilih menu (1-3):  2\n"
     ]
    },
    {
     "name": "stdout",
     "output_type": "stream",
     "text": [
      "\n",
      "NIM = 20240534\n",
      "Nama = Muhammad Nuriana\n",
      "Alamat = Kp. Kalaparea\n",
      "Kelas = TI24\n",
      "\n",
      "===== OPSI =====\n",
      "1. Tambahkan Data\n",
      "2. Tampilkan Data\n",
      "3. Exit\n"
     ]
    },
    {
     "name": "stdin",
     "output_type": "stream",
     "text": [
      "Pilih menu (1-3):  1\n",
      "Masukkan NIM:  20230403291\n",
      "Masukkan Nama:  UdinMamama\n",
      "Masukkan Alamat:  Sukabumi2323\n",
      "Masukkan Kelas:  TI24\n"
     ]
    },
    {
     "name": "stdout",
     "output_type": "stream",
     "text": [
      "===== OPSI =====\n",
      "1. Tambahkan Data\n",
      "2. Tampilkan Data\n",
      "3. Exit\n"
     ]
    },
    {
     "name": "stdin",
     "output_type": "stream",
     "text": [
      "Pilih menu (1-3):  2\n"
     ]
    },
    {
     "name": "stdout",
     "output_type": "stream",
     "text": [
      "\n",
      "NIM = 20240534\n",
      "Nama = Muhammad Nuriana\n",
      "Alamat = Kp. Kalaparea\n",
      "Kelas = TI24\n",
      "\n",
      "NIM = 20230403291\n",
      "Nama = UdinMamama\n",
      "Alamat = Sukabumi2323\n",
      "Kelas = TI24\n",
      "\n",
      "===== OPSI =====\n",
      "1. Tambahkan Data\n",
      "2. Tampilkan Data\n",
      "3. Exit\n"
     ]
    },
    {
     "name": "stdin",
     "output_type": "stream",
     "text": [
      "Pilih menu (1-3):  3\n"
     ]
    },
    {
     "name": "stdout",
     "output_type": "stream",
     "text": [
      "Terima kasih!\n"
     ]
    }
   ],
   "source": [
    "while True:\n",
    "    print(\"===== OPSI =====\")\n",
    "    print(\"1. Tambahkan Data\")\n",
    "    print(\"2. Tampilkan Data\")\n",
    "    print(\"3. Exit\")\n",
    "\n",
    "    pilihan = input(\"Pilih menu (1-3): \")\n",
    "    \n",
    "    if pilihan == \"1\":\n",
    "        nim = input(\"Masukkan NIM: \") #bila di setting integer di awal, akan error ketika input bukan int\n",
    "        nama = input(\"Masukkan Nama: \")\n",
    "        alamat = input(\"Masukkan Alamat: \")\n",
    "        kelas = input(\"Masukkan Kelas: \").upper()\n",
    "            \n",
    "        if nim.isdigit():\n",
    "            if len(nama) > 5:\n",
    "                if len(alamat) > 10:\n",
    "                    if kelas in [\"TI23\", \"TI24\"]:\n",
    "                        with open(\"dataMahasiswa.txt\", \"a\") as file:\n",
    "                            file.write(f\"\\nNIM = {nim}\\nNama = {nama}\\nAlamat = {alamat}\\nKelas = {kelas}\\n\")\n",
    "                    else :\n",
    "                        print(\"Kelas harus TI23 atau TI24\")\n",
    "                else : \n",
    "                    print(\"Alamat minimal 10 huruf\")\n",
    "            else :\n",
    "                print(\"Panjang Nama minimal 5 huruf\")\n",
    "        else :\n",
    "            print(\"NIM bukan Numerik\")\n",
    "    \n",
    "    elif pilihan == \"2\":\n",
    "        try:\n",
    "            f = open(\"dataMahasiswa.txt\", \"r\")\n",
    "            baris = f.read()\n",
    "\n",
    "        except FileNotFound:\n",
    "            print(\"File Tidak Ditemukan!\")\n",
    "\n",
    "        else :\n",
    "            print(baris)\n",
    "                \n",
    "    elif pilihan == \"3\":\n",
    "        print(\"Terima kasih!\")\n",
    "        break\n",
    "    else:\n",
    "        print(\"Pilihan tidak valid.\")"
   ]
  },
  {
   "cell_type": "code",
   "execution_count": null,
   "id": "ac33172d-5d65-4dfd-95d1-48fcb701c8e3",
   "metadata": {},
   "outputs": [],
   "source": []
  }
 ],
 "metadata": {
  "kernelspec": {
   "display_name": "Python [conda env:base] *",
   "language": "python",
   "name": "conda-base-py"
  },
  "language_info": {
   "codemirror_mode": {
    "name": "ipython",
    "version": 3
   },
   "file_extension": ".py",
   "mimetype": "text/x-python",
   "name": "python",
   "nbconvert_exporter": "python",
   "pygments_lexer": "ipython3",
   "version": "3.12.7"
  }
 },
 "nbformat": 4,
 "nbformat_minor": 5
}
