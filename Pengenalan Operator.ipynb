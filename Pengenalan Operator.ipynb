{
 "cells": [
  {
   "cell_type": "markdown",
   "id": "e84bc8c8-f7a2-4414-a725-dfe5c0bf0200",
   "metadata": {},
   "source": [
    "# **Operator Aritmatika**"
   ]
  },
  {
   "cell_type": "code",
   "execution_count": 50,
   "id": "801d9f07-25bc-44f3-8790-dbe0ee4734c9",
   "metadata": {},
   "outputs": [
    {
     "name": "stdout",
     "output_type": "stream",
     "text": [
      "setiap teman budi mendapatkan 3 apel\n",
      "Total apel budi sekarang adalah 20 apel\n"
     ]
    }
   ],
   "source": [
    "#apel budi\n",
    "budi = 12\n",
    "#apel yang ingin budi bagikan kepada temannya\n",
    "teman = 4\n",
    "\n",
    "#bagikan apel secara merata \n",
    "apel = budi // teman\n",
    "print(f\"setiap teman budi mendapatkan {apel} apel\")\n",
    "\n",
    "#tembahan apel budat budi\n",
    "addApel = 8 \n",
    "total = budi + addApel\n",
    "print(f\"Total apel budi sekarang adalah {total} apel\")"
   ]
  },
  {
   "cell_type": "markdown",
   "id": "211e039d-852e-4ad6-84fa-b20a6cd88c63",
   "metadata": {},
   "source": [
    "# **Operator Perbandingan**"
   ]
  },
  {
   "cell_type": "code",
   "execution_count": 57,
   "id": "3caeead2-e119-4f57-9a18-7dfc183f4520",
   "metadata": {},
   "outputs": [
    {
     "name": "stdout",
     "output_type": "stream",
     "text": [
      "Andi lebih tinggi\n"
     ]
    }
   ],
   "source": [
    "siti = 160\n",
    "andi = 165\n",
    "\n",
    "#menenetukan siapa yang tinggi\n",
    "if siti > andi :\n",
    "    print(\"Siti lebih tinggi\")\n",
    "elif siti < andi :\n",
    "    print(\"Andi lebih tinggi\")\n",
    "else :\n",
    "    print(\"Keduanya sama tinggi\")"
   ]
  },
  {
   "cell_type": "markdown",
   "id": "33f399a4-254e-4f20-ab3d-edd8fc3cdc91",
   "metadata": {},
   "source": [
    "# **Operator Logika**"
   ]
  },
  {
   "cell_type": "code",
   "execution_count": 59,
   "id": "dd3b72f9-49dc-4a9d-a333-20552dffbbb4",
   "metadata": {},
   "outputs": [
    {
     "name": "stdout",
     "output_type": "stream",
     "text": [
      "Budi bisa bermain\n"
     ]
    }
   ],
   "source": [
    "cuaca = True\n",
    "pr = False\n",
    "\n",
    "if cuaca or pr :\n",
    "    print (\"Budi bisa bermain\")\n",
    "else :\n",
    "    print(\"Budi tidak bisa bermain\")"
   ]
  },
  {
   "cell_type": "markdown",
   "id": "50fd9f33-d959-4651-8c01-1bdf87165e2c",
   "metadata": {},
   "source": [
    "# ** Operator Bitwise**"
   ]
  },
  {
   "cell_type": "code",
   "execution_count": 62,
   "id": "6a267018-4f59-4f6a-987f-f1020a3d5e38",
   "metadata": {},
   "outputs": [
    {
     "name": "stdin",
     "output_type": "stream",
     "text": [
      "Masukkan bilangan 26\n",
      "Masukkan bilangan 16\n"
     ]
    },
    {
     "name": "stdout",
     "output_type": "stream",
     "text": [
      "Biner dari bilangan 26): 0b11010\n",
      "Biner dari bilangan 16): 0b10000\n",
      "AND :\n",
      "0b11010\n",
      "0b10000\n",
      "0b10000\n",
      "Hasilnya adalah 16\n",
      "\n",
      "OR :\n",
      "0b11010\n",
      "0b10000\n",
      "0b11010\n",
      "Hasilnya adalah 26\n",
      "\n",
      "XOR :\n",
      "0b11010\n",
      "0b10000\n",
      "0b1010\n",
      "Hasilnya adalah 10\n",
      "\n"
     ]
    }
   ],
   "source": [
    "bil1 = int(input('Masukkan bilangan'))\n",
    "bil2 = int(input('Masukkan bilangan'))\n",
    "\n",
    "print(f\"Biner dari bilangan {bil1}): {bin(bil1)}\")\n",
    "print(f\"Biner dari bilangan {bil2}): {bin(bil2)}\")\n",
    "\n",
    "print(\"AND :\")\n",
    "AND = bil1 & bil2\n",
    "print (bin(bil1))\n",
    "print (bin(bil2))\n",
    "print (bin(AND))\n",
    "print (f\"Hasilnya adalah {AND}\\n\") #hasil AND\n",
    "\n",
    "print(\"OR :\")\n",
    "OR = bil1 | bil2\n",
    "print (bin(bil1))\n",
    "print (bin(bil2))\n",
    "print (bin(OR))\n",
    "print (f\"Hasilnya adalah {OR}\\n\") #hasil OR\n",
    "\n",
    "print(\"XOR :\")\n",
    "XOR = bil1 ^ bil2\n",
    "print (bin(bil1))\n",
    "print (bin(bil2))\n",
    "print (bin(XOR))\n",
    "print (f\"Hasilnya adalah {XOR}\\n\") #hasil XOR"
   ]
  },
  {
   "cell_type": "markdown",
   "id": "928ee60b-f939-44e9-812b-6080ccb887a7",
   "metadata": {},
   "source": [
    "# **Operator Penugasan**"
   ]
  },
  {
   "cell_type": "code",
   "execution_count": 67,
   "id": "0f400d0b-30ea-40d5-9b05-5a2390ef9d02",
   "metadata": {},
   "outputs": [
    {
     "name": "stdout",
     "output_type": "stream",
     "text": [
      "Sisa saldo pulsa sekarang 40000\n"
     ]
    }
   ],
   "source": [
    "pulsa = 50000 #saldo awal\n",
    "pulsa += 20000 #tambah saldo\n",
    "pulsa -= 30000 #berkurang saldo\n",
    "\n",
    "print(f\"Sisa saldo pulsa sekarang {pulsa}\")"
   ]
  },
  {
   "cell_type": "markdown",
   "id": "d658cced-a7e3-400e-9bea-bafedfb14928",
   "metadata": {},
   "source": [
    "# **Oprator Keanggotaan**"
   ]
  },
  {
   "cell_type": "code",
   "execution_count": 69,
   "id": "937feaa2-35ea-4f38-af3f-b36aea9039d7",
   "metadata": {},
   "outputs": [
    {
     "name": "stdin",
     "output_type": "stream",
     "text": [
      "Masukkan nama : Agus\n"
     ]
    },
    {
     "name": "stdout",
     "output_type": "stream",
     "text": [
      "False\n",
      "False\n",
      "True\n",
      "True\n"
     ]
    }
   ],
   "source": [
    "name = input (\"Masukkan nama :\")\n",
    "listName = [\"Andi\", \"Budi\", \"Citra\", \"Dewi\"]\n",
    "print (name in listName)\n",
    "print (name in listName [0])\n",
    "print (name not in listName)\n",
    "print (name not in listName [0])"
   ]
  },
  {
   "cell_type": "code",
   "execution_count": 72,
   "id": "b2af48aa-a21a-496a-9147-61aa719c29f9",
   "metadata": {},
   "outputs": [
    {
     "name": "stdin",
     "output_type": "stream",
     "text": [
      "Masukkan kata : python\n"
     ]
    },
    {
     "name": "stdout",
     "output_type": "stream",
     "text": [
      "True\n",
      "False\n",
      "False\n",
      "True\n"
     ]
    }
   ],
   "source": [
    "kata = input(\"Masukkan kata :\")\n",
    "listKata = \"Saya suka belajar python\"\n",
    "print(kata in listKata)\n",
    "print(kata in listKata [0])\n",
    "print(kata not in listKata)\n",
    "print(kata not in listKata [0])"
   ]
  },
  {
   "cell_type": "markdown",
   "id": "8c360be7-dfe1-4dc5-b69a-11f75f9b2271",
   "metadata": {},
   "source": [
    "# **Oprator Identitas**"
   ]
  },
  {
   "cell_type": "code",
   "execution_count": 74,
   "id": "5bbdc729-980c-40d1-a043-d0871d0769c5",
   "metadata": {},
   "outputs": [
    {
     "name": "stdout",
     "output_type": "stream",
     "text": [
      "Memori dari x 140703511489080\n",
      "Memori dari y 140703511489080\n",
      "True\n",
      "False\n"
     ]
    }
   ],
   "source": [
    "x = 5\n",
    "y = 5 \n",
    "\n",
    "print (\"Memori dari x\", id(x))\n",
    "print (\"Memori dari y\", id(y))\n",
    "print( x is y )\n",
    "print ( x is not y)"
   ]
  },
  {
   "cell_type": "code",
   "execution_count": 35,
   "id": "8b03c834-4225-4d01-957a-e8fc47a0e11f",
   "metadata": {},
   "outputs": [
    {
     "name": "stdout",
     "output_type": "stream",
     "text": [
      "True\n",
      "False\n"
     ]
    }
   ],
   "source": [
    "list1 = [3, 5, 7]\n",
    "list2 = [3, 5, 7]\n",
    "\n",
    "list1 = list2\n",
    "\n",
    "print(list1 is list2)\n",
    "print(list1 is not list2)"
   ]
  },
  {
   "cell_type": "markdown",
   "id": "215bfb1d-9c4b-49bd-9acf-9660658e0f51",
   "metadata": {},
   "source": [
    "# **Oprator Ternary**"
   ]
  },
  {
   "cell_type": "code",
   "execution_count": 82,
   "id": "1ee3f935-86ee-41f7-927d-71cbc1e2d631",
   "metadata": {},
   "outputs": [
    {
     "name": "stdin",
     "output_type": "stream",
     "text": [
      "Masukkan angka : 78\n"
     ]
    },
    {
     "name": "stdout",
     "output_type": "stream",
     "text": [
      "Lebih kecil dari 100\n"
     ]
    }
   ],
   "source": [
    "number = int(input(\"Masukkan angka :\"))\n",
    "hasil = \"Lebih besar dari 100\" if number >= 100 else \"Lebih kecil dari 100\"\n",
    "print(hasil)"
   ]
  },
  {
   "cell_type": "code",
   "execution_count": 43,
   "id": "dcaeb96f-c070-4caf-a721-a7be5f1e06fe",
   "metadata": {},
   "outputs": [
    {
     "name": "stdin",
     "output_type": "stream",
     "text": [
      "Masukkan nilai : 86\n",
      "Masukkan nilai : 50\n"
     ]
    },
    {
     "name": "stdout",
     "output_type": "stream",
     "text": [
      "LULUS\n",
      "Tidak lulus\n"
     ]
    }
   ],
   "source": [
    "nilai = int(input(\"Masukkan nilai :\"))\n",
    "nilai2 = int (input(\"Masukkan nilai :\"))\n",
    "\n",
    "status = \"LULUS\" if nilai >= 70 else \"Tidak lulus\"\n",
    "status2 = \"LULUS\" if nilai2 >= 70 else \"Tidak lulus\"\n",
    "print(status)\n",
    "print(status2)"
   ]
  },
  {
   "cell_type": "code",
   "execution_count": null,
   "id": "c37aba31-e33b-4b45-b34e-1b39fa68d442",
   "metadata": {},
   "outputs": [],
   "source": []
  }
 ],
 "metadata": {
  "kernelspec": {
   "display_name": "Python [conda env:base] *",
   "language": "python",
   "name": "conda-base-py"
  },
  "language_info": {
   "codemirror_mode": {
    "name": "ipython",
    "version": 3
   },
   "file_extension": ".py",
   "mimetype": "text/x-python",
   "name": "python",
   "nbconvert_exporter": "python",
   "pygments_lexer": "ipython3",
   "version": "3.12.7"
  }
 },
 "nbformat": 4,
 "nbformat_minor": 5
}
