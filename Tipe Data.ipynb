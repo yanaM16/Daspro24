{
 "cells": [
  {
   "cell_type": "code",
   "execution_count": 1,
   "id": "611f74a4-bc6b-4daf-8dfe-e99b37f61f3d",
   "metadata": {},
   "outputs": [
    {
     "name": "stdout",
     "output_type": "stream",
     "text": [
      "Nama:  amba\n",
      "Umur:  20\n",
      "Alamat:  Jln. Haji\n",
      "Nilai Pemrograman:  80.5\n",
      "Status Nikah:  False\n"
     ]
    }
   ],
   "source": [
    "name = \"amba\"\n",
    "age = 20\n",
    "addres,province = \"Jln. Haji\",\"3129383\"\n",
    "scorePython = 80.5\n",
    "isMarried = False\n",
    "print(\"Nama: \",name)\n",
    "print(\"Umur: \",age)\n",
    "print(\"Alamat: \",addres)\n",
    "print(\"Nilai Pemrograman: \",scorePython)\n",
    "print(\"Status Nikah: \",isMarried)"
   ]
  },
  {
   "cell_type": "code",
   "execution_count": 3,
   "id": "335e41ff-bba4-4641-b79c-9dc0201f7377",
   "metadata": {},
   "outputs": [
    {
     "name": "stdout",
     "output_type": "stream",
     "text": [
      "Nama:  amba\n",
      "Umur:  20\n",
      "Alamat:  Jln. Haji\n",
      "Nilai Pemrograman:  80.5\n",
      "Status Nikah:  False\n"
     ]
    }
   ],
   "source": [
    "name = \"amba\"\n",
    "age = 20\n",
    "addres,province = \"Jln. Haji\",\"3129383\"\n",
    "scorePython = 80.5\n",
    "isMarried = False\n",
    "print(\"Nama: \",name)\n",
    "print(\"Umur: \",age)\n",
    "print(\"Alamat: \",addres)\n",
    "print(\"Nilai Pemrograman: \",scorePython)\n",
    "print(\"Status Nikah: \",isMarried)"
   ]
  },
  {
   "cell_type": "code",
   "execution_count": 5,
   "id": "2702d84e-efaa-48a0-a30e-bc21af5dfd47",
   "metadata": {},
   "outputs": [
    {
     "name": "stdout",
     "output_type": "stream",
     "text": [
      "3129383-3129383.0-True\n",
      "20-20.0-True\n",
      "80.5-80-True\n",
      "0-0.0-False\n"
     ]
    }
   ],
   "source": [
    "#Casting atau konversi Tipe Data\n",
    "#Konversi dari String ke (int,float,bool)\n",
    "strToInt = int(province)\n",
    "strToFloat = float(province)\n",
    "strToBool = bool(province)\n",
    "print(strToInt,strToFloat,strToBool, sep=\"-\")\n",
    "#Konversi dari int ke (str,float,bool)\n",
    "intToStr = str(age)\n",
    "intToFloat = float(age)\n",
    "intToBool = bool(age)\n",
    "print(intToStr,intToFloat,intToBool, sep=\"-\")\n",
    "#Konversi dari float ke (str,int,bool)\n",
    "floatToStr = str(scorePython)\n",
    "floatToInt = int(scorePython)\n",
    "floatToBool = bool(scorePython)\n",
    "print(floatToStr,floatToInt,floatToBool, sep=\"-\")\n",
    "#Konversi dari bool ke (int,float,str)\n",
    "boolToInt = int(isMarried)\n",
    "boolToFloat = float(isMarried)\n",
    "boolToStr = str(isMarried)\n",
    "print(boolToInt,boolToFloat,boolToStr, sep=\"-\")"
   ]
  },
  {
   "cell_type": "code",
   "execution_count": 7,
   "id": "522bdfa3-a996-479b-b9cc-aa21d0658ed3",
   "metadata": {},
   "outputs": [
    {
     "name": "stdout",
     "output_type": "stream",
     "text": [
      "B\n",
      "g\n"
     ]
    }
   ],
   "source": [
    "city = \"Bandung\"\n",
    "lenCity = len(city)\n",
    "print(city[0])\n",
    "print(city[lenCity-1])"
   ]
  },
  {
   "cell_type": "code",
   "execution_count": 9,
   "id": "12ae271d-d5f2-4306-8c00-5536c1f498d1",
   "metadata": {},
   "outputs": [
    {
     "name": "stdout",
     "output_type": "stream",
     "text": [
      "Nilai Desimal:  200\n",
      "Nilai Desimal dari 0xff:  255\n",
      "Nilai Desiml dari 0b1010:  10\n",
      "Nilai Desimal dari 0o377:  255\n",
      "----------\n",
      "Nilai Biner dari : 200 0b11001000\n",
      "Nilai Octal dari : 200 0o310\n",
      "Nilai Hexa dari : 200 0xc8\n"
     ]
    }
   ],
   "source": [
    "desimal = 200\n",
    "hexa = 0xff\n",
    "biner = 0b1010\n",
    "octal = 0o377\n",
    "print(\"Nilai Desimal: \",desimal)\n",
    "print(\"Nilai Desimal dari 0xff: \",hexa)\n",
    "print(\"Nilai Desiml dari 0b1010: \",biner)\n",
    "print(\"Nilai Desimal dari 0o377: \",octal)\n",
    "print(\"----------\")\n",
    "print(\"Nilai Biner dari :\",desimal, bin(desimal))\n",
    "print(\"Nilai Octal dari :\",desimal, oct(desimal))\n",
    "print(\"Nilai Hexa dari :\",desimal, hex(desimal))"
   ]
  },
  {
   "cell_type": "code",
   "execution_count": 11,
   "id": "cbeed7eb-3e15-42ba-81bc-f996c5611825",
   "metadata": {},
   "outputs": [
    {
     "name": "stdout",
     "output_type": "stream",
     "text": [
      "['Sukabumi', 'Bandung', 'Bogor', 'Jakarta']\n",
      "Sukabumi\n",
      "Jakarta\n",
      "['Sukabumi', 'Medan', 'Bogor', 'Jakarta']\n",
      "J\n",
      "('Andi', 'Budi', 'Caca')\n",
      "{'name': 'Dedi', 'addres': {'street': 'Bandung', 'number': 21, 'province': 'West Java'}, 'age': 20, 'isMarried': True}\n",
      "West Java\n",
      "{'name': 'Budi', 'addres': {'street': 'Bogor', 'number': 25, 'province': 'West Java'}, 'age': 20, 'isMarried': False}\n",
      "o\n",
      "23\n"
     ]
    }
   ],
   "source": [
    "#Tipe data Colection\n",
    "#List\n",
    "cities = [\"Sukabumi\",\"Bandung\",\"Bogor\",\"Jakarta\"]\n",
    "print(cities)\n",
    "print(cities[0])\n",
    "print(cities[len(cities)-1])\n",
    "cities[1] = \"Medan\"\n",
    "print(cities)\n",
    "print(cities[len(cities)-1][0])\n",
    "#Tuple\n",
    "names = (\"Andi\",\"Budi\",\"Caca\")\n",
    "print(names)\n",
    "#names[0] = \"Rudi\" akan menyebabkan error, karena tuple adalah immutable\n",
    "\n",
    "studentData = {\n",
    "    \"name\" : \"Dedi\",\n",
    "    \"addres\" :{\n",
    "        \"street\" : \"Bandung\",\n",
    "        \"number\" : 21,\n",
    "        \"province\" : \"West Java\"\n",
    "    },\n",
    "    \"age\" : 20,\n",
    "    \"isMarried\" : True\n",
    "}\n",
    "#ListStudent\n",
    "listStudent = [\n",
    "    {\n",
    "        \"name\" : \"Dedi\",\n",
    "        \"addres\" : {\n",
    "        \"street\" : \"Bandung\",\n",
    "        \"number\" : 21,\n",
    "        \"province\" : \"West Java\"\n",
    "    },\n",
    "        \"hobbies\" : \"FootBall\" , \n",
    "        \"age\" : 23,\n",
    "        \"isMarried\" : True\n",
    "    },\n",
    "    {\n",
    "        \"name\" : \"Budi\",\n",
    "        \"addres\" : {\n",
    "        \"street\" : \"Bogor\",\n",
    "        \"number\" : 25,\n",
    "        \"province\" : \"West Java\"\n",
    "    },\n",
    "        \"age\" : 20,\n",
    "        \"isMarried\" : False\n",
    "    }\n",
    "]\n",
    "print(studentData)\n",
    "print(studentData[\"addres\"][\"province\"])#Wst Java\n",
    "print(listStudent[1])#Semua data dari Budi\n",
    "print(listStudent[0] [\"hobbies\"][1])#FootBall - hobi dedi urutan ke-2\n",
    "print(listStudent[0][\"age\"])#23 - umur Dedi"
   ]
  },
  {
   "cell_type": "code",
   "execution_count": 13,
   "id": "a27bb297-92ac-4024-b8ef-bc47bc80d508",
   "metadata": {},
   "outputs": [
    {
     "name": "stdout",
     "output_type": "stream",
     "text": [
      "{'name': 'Dika', 'nilai': '80'}\n",
      "{'Buah': 'Apel', 'Harga': '10000'}\n",
      "(('name', 'Dika'), ('nilai', '80'))\n",
      "(['Buah', 'Apel'], ['Harga', '10000'])\n",
      "{'nama': 'Adi', 'age': 20, 'addres': 'Bandung'}\n"
     ]
    }
   ],
   "source": [
    "#Casting dictionary\n",
    "list_tuple = [(\"name\",\"Dika\",),(\"nilai\",\"80\",)]\n",
    "dictStudent = dict(list_tuple)\n",
    "print(dictStudent)\n",
    "\n",
    "list_list = [(\"Buah\",\"Apel\"),(\"Harga\",\"10000\")]\n",
    "dictBuah = dict(list_list)\n",
    "print(dictBuah)\n",
    "\n",
    "tuple_tuple = (\"name\",\"Dika\"),(\"nilai\",\"80\")\n",
    "dictTuple = dict(tuple_tuple)\n",
    "print(tuple_tuple)\n",
    "\n",
    "tuple_list = ([\"Buah\",\"Apel\"],[\"Harga\",\"10000\"])\n",
    "dictList = dict(tuple_list)\n",
    "print(tuple_list)\n",
    "\n",
    "keys = [\"nama\",\"age\",\"addres\"]\n",
    "values = [\"Adi\",20,\"Bandung\"]\n",
    "dictData = dict(zip(keys,values))\n",
    "print(dictData)"
   ]
  },
  {
   "cell_type": "code",
   "execution_count": null,
   "id": "ed353231-1991-4f2a-a845-aed9467cad8d",
   "metadata": {},
   "outputs": [],
   "source": []
  }
 ],
 "metadata": {
  "kernelspec": {
   "display_name": "Python [conda env:base] *",
   "language": "python",
   "name": "conda-base-py"
  },
  "language_info": {
   "codemirror_mode": {
    "name": "ipython",
    "version": 3
   },
   "file_extension": ".py",
   "mimetype": "text/x-python",
   "name": "python",
   "nbconvert_exporter": "python",
   "pygments_lexer": "ipython3",
   "version": "3.12.7"
  }
 },
 "nbformat": 4,
 "nbformat_minor": 5
}
